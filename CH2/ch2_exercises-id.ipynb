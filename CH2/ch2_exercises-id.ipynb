{
 "metadata": {
  "language_info": {
   "codemirror_mode": {
    "name": "ipython",
    "version": 3
   },
   "file_extension": ".py",
   "mimetype": "text/x-python",
   "name": "python",
   "nbconvert_exporter": "python",
   "pygments_lexer": "ipython3",
   "version": "3.9.2"
  },
  "orig_nbformat": 2,
  "kernelspec": {
   "name": "python392jvsc74a57bd0b8764a064343e1c555b673c17c0f994af0ec8f23831251b0e5b4bda9511bd43e",
   "display_name": "Python 3.9.2 64-bit"
  },
  "metadata": {
   "interpreter": {
    "hash": "b8764a064343e1c555b673c17c0f994af0ec8f23831251b0e5b4bda9511bd43e"
   }
  }
 },
 "nbformat": 4,
 "nbformat_minor": 2,
 "cells": [
  {
   "source": [
    "# Ch2-exercises-id.ipynb By PA04\n",
    "## Q1.\n",
    "    홍길동 씨의 과목별 점수는 다음과 같다. 홍길동 씨의 평균 점수를 구해 보자\n",
    "- 과목 점수\n",
    "- 국어 : 80\n",
    "- 영어 : 75\n",
    "- 수학 : 55"
   ],
   "cell_type": "markdown",
   "metadata": {}
  },
  {
   "cell_type": "code",
   "execution_count": 5,
   "metadata": {},
   "outputs": [
    {
     "output_type": "stream",
     "name": "stdout",
     "text": [
      "70.0\n"
     ]
    }
   ],
   "source": [
    "total = 0\n",
    "Korean = int(input())\n",
    "English = int(input())\n",
    "Math = int(input())\n",
    "\n",
    "total = Korean + English + Math\n",
    "print(total/3)"
   ]
  },
  {
   "source": [
    "## Q2.\n",
    "    자연수 13이 홀수인지 짝수인지 판별할 수 있는 방법에 대해 말해 보자.\n",
    "- 판별 기준 -> 2로 나눴을 때 0이 되는지\n",
    "- 코드"
   ],
   "cell_type": "markdown",
   "metadata": {}
  },
  {
   "cell_type": "code",
   "execution_count": 8,
   "metadata": {},
   "outputs": [
    {
     "output_type": "stream",
     "name": "stdout",
     "text": [
      "홀수입니다.\n"
     ]
    }
   ],
   "source": [
    "n = 13\n",
    "if(n % 2 == 0):\n",
    "    print(\"짝수입니다.\")\n",
    "else:\n",
    "    print(\"홀수입니다.\")"
   ]
  },
  {
   "source": [
    "## Q3.\n",
    "    홍길동 씨의 주민등록번호는 881120-1068234이다. 홍길동 씨의 주민등록번호를 연월일        (YYYYMMDD) 부분과 그 뒤의 숫자 부분으로 나누어 출력해 보자.\n",
    "- 문자열 슬라이싱 기법을 사용해 보자."
   ],
   "cell_type": "markdown",
   "metadata": {}
  },
  {
   "cell_type": "code",
   "execution_count": 12,
   "metadata": {},
   "outputs": [
    {
     "output_type": "stream",
     "name": "stdout",
     "text": [
      "881120 1068234\n"
     ]
    }
   ],
   "source": [
    "a = \"881120-1068234\"\n",
    "b = a[:6]\n",
    "c = a[7:]\n",
    "print(b , c)"
   ]
  },
  {
   "source": [
    "## Q4.\n",
    "    주민등록번호 뒷자리의 맨 첫 번째 숫자는 성별을 나타낸다. 주민등록번호에서 성별을 나타내는 숫자를 출력해 보자.\n",
    "    - pin = \"881120-1068234\"\n",
    "    - ※ 문자열 인덱싱 또는 내장함수를 사용해 보자.\n",
    "    - 문자열포맷팅을 이용해서 성별을 출력하시오."
   ],
   "cell_type": "markdown",
   "metadata": {}
  },
  {
   "cell_type": "code",
   "execution_count": 42,
   "metadata": {},
   "outputs": [
    {
     "output_type": "stream",
     "name": "stdout",
     "text": [
      "맨 첫 번째 숫자는 1입니다. 그렇기에 성별을 남자입니다.\n"
     ]
    }
   ],
   "source": [
    "a = \"881120-1068234\"\n",
    "b = a[7]\n",
    "gender = ''\n",
    "if(b == '1'):\n",
    "    gender = \"남자\"\n",
    "elif(b == '2'):\n",
    "    gender = \"여자\"\n",
    "else:\n",
    "    gender = \"성별을 알 수 없음\"\n",
    "print(\"맨 첫 번째 숫자는 {}입니다. 그렇기에 성별을 {}입니다.\".format(b,gender))"
   ]
  },
  {
   "source": [
    "## Q5.\n",
    "    다음과 같은 문자열 a:b:c:d가 있다. 문자열의 replace 함수를 사용하여 a#b#c#d#로 바꿔서 출력해 보자\n",
    "- a = \"a:b:c:d\""
   ],
   "cell_type": "markdown",
   "metadata": {}
  },
  {
   "source": [
    "a = \"a:b:c:d\"\n",
    "print(a.replace(\":\", \"#\"))"
   ],
   "cell_type": "code",
   "metadata": {},
   "execution_count": 47,
   "outputs": [
    {
     "output_type": "stream",
     "name": "stdout",
     "text": [
      "a#b#c#d\n"
     ]
    }
   ]
  },
  {
   "source": [
    "## Q6.\n",
    "    [1, 3, 5, 4, 2] 리스트를 [5, 4, 3, 2, 1]로 만들어 보자.\n",
    "- ※리스트의 내장 함수를 사용해 보자"
   ],
   "cell_type": "markdown",
   "metadata": {}
  },
  {
   "cell_type": "code",
   "execution_count": 57,
   "metadata": {},
   "outputs": [
    {
     "output_type": "stream",
     "name": "stdout",
     "text": [
      "[5, 4, 3, 2, 1]\n"
     ]
    }
   ],
   "source": [
    "a = [1, 3, 5, 4, 2]\n",
    "a.sort()\n",
    "a.reverse()\n",
    "print(a)"
   ]
  },
  {
   "source": [
    "## Q7.\n",
    "    ['Life','is','too','short'] 리스트를 Life is too short 문자열로 만들어 출력해 보자.\n",
    "- ※ 문자열의 join 함수를 사용하면 리스트를 문자열로 쉽게 만들 수 있다."
   ],
   "cell_type": "markdown",
   "metadata": {}
  },
  {
   "cell_type": "code",
   "execution_count": 63,
   "metadata": {},
   "outputs": [
    {
     "output_type": "stream",
     "name": "stdout",
     "text": [
      "Life is too short\n"
     ]
    }
   ],
   "source": [
    "a = ['Life', 'is', 'too', 'short']\n",
    "print(\" \".join(a))"
   ]
  },
  {
   "source": [
    "## Q8.\n",
    "    (1,2,3) 튜플에 값 4를 추가하여 (1,2,3,4)를 만들어 출력해 보자.\n",
    "- ※ 더하기(+) 또는 다른 방법들을 사용해 보자."
   ],
   "cell_type": "markdown",
   "metadata": {}
  },
  {
   "cell_type": "code",
   "execution_count": 64,
   "metadata": {},
   "outputs": [
    {
     "output_type": "stream",
     "name": "stdout",
     "text": [
      "(1, 2, 3, 4)\n"
     ]
    }
   ],
   "source": [
    "t1 = (1,2,3)\n",
    "t2 = (4,)\n",
    "print(t1 + t2)"
   ]
  },
  {
   "source": [
    "## Q9.\n",
    "    다음과 같은 딕셔너리 a가 있다.\n",
    "        a = dict()\n",
    "        a\n",
    "        {}\n",
    "- 다음 중 오류가 발생하는 경우를 고르고, 그 이유를 설명해 보자.\n",
    "1. a['name']= 'python'\n",
    "2. a[('a',)] = 'python'\n",
    "3. a[[1]] = 'python'\n",
    "4. a[250] = 'python"
   ],
   "cell_type": "markdown",
   "metadata": {}
  },
  {
   "cell_type": "code",
   "execution_count": 19,
   "metadata": {},
   "outputs": [
    {
     "output_type": "stream",
     "name": "stdout",
     "text": [
      "{}\n{'name': 'python', ('a',): 'python', 250: 'python'}\n"
     ]
    }
   ],
   "source": [
    "a = dict()\n",
    "print(a)\n",
    "a['name'] = 'python'\n",
    "a[('a',)] = 'python'\n",
    "# a[[1]] = 'python' - [1] 리스트는 추가 X\n",
    "a[250] = 'python'\n",
    "print(a)"
   ]
  },
  {
   "source": [
    "## Q10.\n",
    "    딕셔너리 a에서 'B'에 해당되는 값을 추출해 보자.\n",
    "        a = {'A':90, 'B':80, 'C':70}\n",
    "- ※ 딕셔너리의 pop 함수를 사용해 보자."
   ],
   "cell_type": "markdown",
   "metadata": {}
  },
  {
   "cell_type": "code",
   "execution_count": 20,
   "metadata": {},
   "outputs": [
    {
     "output_type": "stream",
     "name": "stdout",
     "text": [
      "80\n"
     ]
    }
   ],
   "source": [
    "a = {'A':90, 'B':80, 'C':70}\n",
    "b = a.pop('B')\n",
    "print(b)"
   ]
  },
  {
   "source": [
    "## Q11. \n",
    "    a 리스트에서 중복 숫자를 제거해 보자.\n",
    "        a = [1,1,1,2,2,3,3,3,4,4,5]\n",
    "- ※ 집합 자료형의 요솟값이 중복될 수 없다는 특징을 사용해 보자."
   ],
   "cell_type": "markdown",
   "metadata": {}
  },
  {
   "cell_type": "code",
   "execution_count": 22,
   "metadata": {},
   "outputs": [
    {
     "output_type": "stream",
     "name": "stdout",
     "text": [
      "[1, 2, 3, 4, 5]\n"
     ]
    }
   ],
   "source": [
    "a = [1, 1, 1, 2, 2, 2, 3, 3, 3, 4, 4 ,5]\n",
    "a_set = set(a)\n",
    "a = list(a_set)\n",
    "print(a)"
   ]
  },
  {
   "source": [
    "## Q12.\n",
    "    파이썬은 다음처럼 동일한 값에 여러 개의 변수를 선언할 수 있다. 다음과 같이 a,b 변수를 선언한 후 a의 두번 째 요솟값을 변경하면 b값은 어떻게 될까? 그리고 이런 결과가 오는 이유에 대해 설명해 보자.\n",
    "    a = b = [1, 2, 3]\n",
    "    a[1] = 4\n",
    "    print(b)"
   ],
   "cell_type": "markdown",
   "metadata": {}
  },
  {
   "cell_type": "code",
   "execution_count": 25,
   "metadata": {},
   "outputs": [
    {
     "output_type": "stream",
     "name": "stdout",
     "text": [
      "[1, 4, 3]\n[1, 4, 3]\n"
     ]
    }
   ],
   "source": [
    "a = b = [1, 2, 3]\n",
    "a[1] = 4\n",
    "print(a)\n",
    "print(b)\n",
    "# 앞에서 b의 변수를 생성할 때 a의 변수의 값을 가져오도록 되어있기 때문에 a의 두번 쨰 요솟값을 변경 하여도 b는 a와 똑같이 출력되는것이다."
   ]
  }
 ]
}