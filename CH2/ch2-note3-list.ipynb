{
 "metadata": {
  "language_info": {
   "codemirror_mode": {
    "name": "ipython",
    "version": 3
   },
   "file_extension": ".py",
   "mimetype": "text/x-python",
   "name": "python",
   "nbconvert_exporter": "python",
   "pygments_lexer": "ipython3",
   "version": "3.9.2-final"
  },
  "orig_nbformat": 2,
  "kernelspec": {
   "name": "python3",
   "display_name": "Python 3.9.2 64-bit",
   "metadata": {
    "interpreter": {
     "hash": "b8764a064343e1c555b673c17c0f994af0ec8f23831251b0e5b4bda9511bd43e"
    }
   }
  }
 },
 "nbformat": 4,
 "nbformat_minor": 2,
 "cells": [
  {
   "source": [
    "# Ch2-note3-list.ipynb by PA04"
   ],
   "cell_type": "markdown",
   "metadata": {}
  },
  {
   "source": [
    "# 리스트: list 란?"
   ],
   "cell_type": "markdown",
   "metadata": {}
  },
  {
   "cell_type": "code",
   "execution_count": 2,
   "metadata": {},
   "outputs": [
    {
     "output_type": "stream",
     "name": "stdout",
     "text": [
      "[1, 3, 5, 7, 9]\n[]\n[1, 2, 3]\n['Life', 'is', 'too', 'short']\n[1, 2, 'Life', 'is']\n[1, 2, ['Life', 'is']]\n"
     ]
    },
    {
     "output_type": "execute_result",
     "data": {
      "text/plain": [
       "[]"
      ]
     },
     "metadata": {},
     "execution_count": 2
    }
   ],
   "source": [
    "odd = [1, 3, 5, 7, 9]\n",
    "print(odd)\n",
    "a = []\n",
    "print(a)   # list 초기화\n",
    "b = [1, 2, 3]\n",
    "print(b)\n",
    "c = ['Life', 'is', 'too', 'short']\n",
    "print(c)\n",
    "d = [1, 2, 'Life', 'is']\n",
    "print(d)\n",
    "e = [1, 2, ['Life', 'is']]\n",
    "print(e)\n",
    "# 리스트 초기화\n",
    "a = list()\n",
    "a"
   ]
  },
  {
   "source": [
    "# 리스트: 리스트의 인덱싱과 슬라이싱"
   ],
   "cell_type": "markdown",
   "metadata": {}
  },
  {
   "cell_type": "code",
   "execution_count": 4,
   "metadata": {},
   "outputs": [
    {
     "output_type": "stream",
     "name": "stdout",
     "text": [
      "[1, 2, 3]\n1\n4\n3\n1\n['a', 'b', 'c']\n['a', 'b', 'c']\na\nc\n"
     ]
    }
   ],
   "source": [
    "a = [1, 2, 3]\n",
    "print(a)\n",
    "print(a[0])\n",
    "# a[3]\n",
    "print(a[0]+a[2])\n",
    "print(a[-1])\n",
    "\n",
    "a = [1, 2, 3, ['a', 'b', 'c']]\n",
    "print(a[0])\n",
    "print(a[3])\n",
    "print(a[-1])\n",
    "# chaek this: a[0] + a[-1] -> TypeError\n",
    "# Indexing inner list\n",
    "print(a[-1][0])\n",
    "print(a[-1][-1])"
   ]
  },
  {
   "cell_type": "code",
   "execution_count": 5,
   "metadata": {},
   "outputs": [
    {
     "output_type": "stream",
     "name": "stdout",
     "text": [
      "['a', 'b', ['Life', 'is']]\n['Life', 'is']\nLife\n"
     ]
    }
   ],
   "source": [
    "# Indexing of triple list\n",
    "# 삼중 리스트에서 인덱싱하기\n",
    "a = [1, 2, ['a', 'b', ['Life', 'is']]]\n",
    "print(a[2])\n",
    "print(a[2][-1])\n",
    "print(a[2][-1][0])   # 'Life'"
   ]
  },
  {
   "cell_type": "code",
   "execution_count": 6,
   "metadata": {},
   "outputs": [
    {
     "output_type": "stream",
     "name": "stdout",
     "text": [
      "[1, 2]\n12\n[1, 2]\n[3, 4, 5]\n[1, 3]\n"
     ]
    }
   ],
   "source": [
    "# 리스트의 슬라이싱\n",
    "a = [1, 2, 3, 4, 5]\n",
    "print(a[0:2])\n",
    "a = \"12345\"\n",
    "print(a[0:2])\n",
    "#\n",
    "a = [1, 2, 3, 4, 5]\n",
    "print(a[0:2])\n",
    "print(a[2:])\n",
    "print(a[0:4:2])  # a[start:end:step]"
   ]
  },
  {
   "cell_type": "code",
   "execution_count": 7,
   "metadata": {},
   "outputs": [
    {
     "output_type": "stream",
     "name": "stdout",
     "text": [
      "[3, ['a', 'b', 'c'], 4]\n['a', 'b']\n"
     ]
    }
   ],
   "source": [
    "# 중첩된 리스트에서 슬라이싱하기\n",
    "a = [1, 2, 3, ['a', 'b', 'c'], 4, 5]\n",
    "print(a[2:5])\n",
    "print(a[3][:2])"
   ]
  },
  {
   "cell_type": "code",
   "execution_count": 8,
   "metadata": {},
   "outputs": [
    {
     "output_type": "stream",
     "name": "stdout",
     "text": [
      "[1, 2, 3]\n[4, 5, 6, 7, 8, 9]\n[1, 2, 3, 4, 5, 6]\n[1, 3, 5]\n9\n7\n[1, 2, 3, 4, 5, 6]\n[9, 8, 7, 6, 5, 4, 3, 2, 1]\n[7, 6, 5, 4, 3, 2, 1]\n"
     ]
    }
   ],
   "source": [
    "# 리스트: 인덱싱, 슬라이싱 연습\n",
    "#\n",
    "x = [1, 2, 3, 4, 5, 6, 7, 8, 9]\n",
    "print(x[0:3])\n",
    "print(x[3:])\n",
    "print(x[:6])\n",
    "print(x[0:6:2]) # x[:6:2]d\n",
    "print(x[-1])\n",
    "print(x[-3])\n",
    "print(x[:-3])\n",
    "print(x[::-1])\n",
    "print(x[-3::-1])"
   ]
  },
  {
   "source": [
    "# 리스트: 리스트 연산하기"
   ],
   "cell_type": "markdown",
   "metadata": {}
  },
  {
   "cell_type": "code",
   "execution_count": 15,
   "metadata": {},
   "outputs": [
    {
     "output_type": "stream",
     "name": "stdout",
     "text": [
      "[1, 2, 3, 4, 5, 6]\n[1, 2, 3, 1, 2, 3, 1, 2, 3]\n3\n3hi\n[1, 2, 4]\n[1, 3]\n"
     ]
    },
    {
     "output_type": "execute_result",
     "data": {
      "text/plain": [
       "[1, 2]"
      ]
     },
     "metadata": {},
     "execution_count": 15
    }
   ],
   "source": [
    "# 리스트 더하기(+)\n",
    "#\n",
    "a = [1, 2, 3]\n",
    "b = [4, 5, 6]\n",
    "print(a + b)\n",
    "# 리스트 반복하기(*)\n",
    "print(a *3)\n",
    "# 리스트 길이구하기(len)\n",
    "print(len(a))\n",
    "# 초보자가 범하기 쉬운 리스트 연산 오류\n",
    "a = [1, 2, 3]\n",
    "# print(a[2] + 'hi')\n",
    "print(str(a[2]) + 'hi')\n",
    "# 리스트 수정과 삭제\n",
    "a = [1, 2, 3]\n",
    "a[2] = 4\n",
    "print(a)\n",
    "# del 함수 사용해 리스트 요소 삭제하기\n",
    "a = [1, 2, 3]\n",
    "del a[1]\n",
    "print(a)\n",
    "a = [1, 2, 3, 4 ,5]\n",
    "del a[2:]\n",
    "a"
   ]
  },
  {
   "cell_type": "code",
   "execution_count": null,
   "metadata": {},
   "outputs": [],
   "source": []
  }
 ]
}